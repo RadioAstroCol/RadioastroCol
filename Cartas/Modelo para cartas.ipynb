{
 "cells": [
  {
   "cell_type": "markdown",
   "metadata": {},
   "source": [
    "## Código para crear cartas para el Workshop de Radioastronomia en Colombia"
   ]
  },
  {
   "cell_type": "code",
   "execution_count": null,
   "metadata": {
    "collapsed": true
   },
   "outputs": [],
   "source": [
    "from tempfile import mkstemp\n",
    "from shutil import move\n",
    "from os import close,remove\n",
    "    \n",
    "def replaceagn(file_path, pattern, subst):\n",
    "    #Create temp file\n",
    "    fh, abs_path = mkstemp()\n",
    "    with open(abs_path,'w') as new_file:\n",
    "        with open(file_path) as old_file:\n",
    "            for line in old_file:\n",
    "                new_file.write(line.replace(pattern, subst))\n",
    "    close(fh)\n",
    "    #Remove original file\n",
    "    remove(file_path)\n",
    "    #Move new file\n",
    "    move(abs_path, file_path)"
   ]
  },
  {
   "cell_type": "code",
   "execution_count": null,
   "metadata": {
    "collapsed": false
   },
   "outputs": [],
   "source": [
    "import pandas as pd\n",
    "df = pd.read_csv('cartas.csv', index_col=None)\n",
    "b='formal_letter_2.tex'\n",
    "tot=len(df)"
   ]
  },
  {
   "cell_type": "code",
   "execution_count": null,
   "metadata": {
    "collapsed": false
   },
   "outputs": [],
   "source": [
    "licart=[]\n",
    "for k in range(tot):\n",
    "    c=df.apellidos.iloc[k][0]+'_'+df.correo.iloc[k][0:5]+'_'+str(int(df.index[k]))\n",
    "    cname='carta_%s.tex' %c\n",
    "    licart+=[cname[:-4]]\n",
    "    !cp $b $cname\n",
    "    replaceagn(cname,'TITULO',df.titulo.iloc[k])\n",
    "    replaceagn(cname,'TIPO',df.tipo.iloc[k])\n",
    "    replaceagn(cname,'NOMBRE',df.nombres.iloc[k])\n",
    "    replaceagn(cname,'APELLIDO',df.apellidos.iloc[k])\n",
    "    replaceagn(cname,'INSTITUCION',df.institucion.iloc[k])\n",
    "    if(df.tipo.iloc[k].find(\"Conferencista\") >= 0):\n",
    "        replaceagn(cname,'%QUITAR','')\n",
    "\n",
    "    !pdflatex $cname"
   ]
  },
  {
   "cell_type": "code",
   "execution_count": null,
   "metadata": {
    "collapsed": false
   },
   "outputs": [],
   "source": [
    "import smtplib\n",
    "from email.MIMEMultipart import MIMEMultipart\n",
    "from email.MIMEBase import MIMEBase\n",
    "from email.MIMEText import MIMEText\n",
    "from email.Utils import COMMASPACE, formatdate\n",
    "from email import Encoders\n",
    "import os\n",
    "import datetime\n",
    "\n",
    "\n",
    "smtpUser = ''\n",
    "smtpPass = ''\n",
    "\n",
    "toAdd = ''\n",
    "fromAdd = smtpUser\n",
    "\n",
    "today = datetime.date.today()\n",
    "\n",
    "subject  = 'Certificado de participacion en el Workshop de Radioastronomia en Colombia'\n",
    "header = 'To :' + toAdd + '\\n' + 'From : ' + fromAdd + '\\n' + 'Subject : ' + subject + '\\n'\n",
    "body = 'Buenas tardes, \\n\\nAdjunto certificado. \\n\\nUn saludo,\\n\\nGerman'\n",
    "\n",
    "attach = atta\n",
    "\n",
    "print header\n",
    "\n",
    "\n",
    "def sendMail(to, subject, text, files=[]):\n",
    "    assert type(to)==list\n",
    "    assert type(files)==list\n",
    "\n",
    "    msg = MIMEMultipart()\n",
    "    msg['From'] = smtpUser\n",
    "    msg['To'] = COMMASPACE.join(to)\n",
    "    msg['Date'] = formatdate(localtime=True)\n",
    "    msg['Subject'] = subject\n",
    "\n",
    "    msg.attach( MIMEText(text) )\n",
    "\n",
    "    for file in files:\n",
    "        part = MIMEBase('application', \"octet-stream\")\n",
    "        part.set_payload( open(file,\"rb\").read() )\n",
    "        Encoders.encode_base64(part)\n",
    "        part.add_header('Content-Disposition', 'attachment; filename=\"%s\"'\n",
    "                       % os.path.basename(file))\n",
    "        msg.attach(part)\n",
    "\n",
    "    server = smtplib.SMTP('smtp.gmail.com:587')\n",
    "    server.ehlo_or_helo_if_needed()\n",
    "    server.starttls()\n",
    "    server.ehlo_or_helo_if_needed()\n",
    "    server.login(smtpUser,smtpPass)\n",
    "    server.sendmail(smtpUser, to, msg.as_string())\n",
    "\n",
    "    print 'Done'\n",
    "\n",
    "    server.quit()\n",
    "\n",
    "\n"
   ]
  },
  {
   "cell_type": "code",
   "execution_count": null,
   "metadata": {
    "collapsed": false
   },
   "outputs": [],
   "source": [
    "for toAdd in\n",
    "sendMail( [toAdd], subject, body, [attach] )"
   ]
  },
  {
   "cell_type": "code",
   "execution_count": null,
   "metadata": {
    "collapsed": false
   },
   "outputs": [],
   "source": [
    "pwd"
   ]
  },
  {
   "cell_type": "code",
   "execution_count": null,
   "metadata": {
    "collapsed": false
   },
   "outputs": [],
   "source": [
    "for toAdd,attach in zip(df.correo,licart):\n",
    "    print toAdd,attach+'.pdf'\n",
    "    sendMail( [toAdd], subject, body, [attach+'.pdf'] )\n"
   ]
  }
 ],
 "metadata": {
  "kernelspec": {
   "display_name": "Python 2",
   "language": "python",
   "name": "python2"
  },
  "language_info": {
   "codemirror_mode": {
    "name": "ipython",
    "version": 2
   },
   "file_extension": ".py",
   "mimetype": "text/x-python",
   "name": "python",
   "nbconvert_exporter": "python",
   "pygments_lexer": "ipython2",
   "version": "2.7.6"
  }
 },
 "nbformat": 4,
 "nbformat_minor": 0
}
